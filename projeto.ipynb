{
 "cells": [
  {
   "cell_type": "code",
   "execution_count": 11,
   "metadata": {},
   "outputs": [],
   "source": [
    "class VendasInterator: #Construindo a class\n",
    "    def __init__(self, arquivo):\n",
    "        self.arquivo = arquivo\n",
    "        self.file = open(arquivo, 'r', encoding=('utf-8'))\n",
    "\n",
    "    def __iter__(self): #Iniciando o Iterador\n",
    "        return self       \n",
    "    \n",
    "    def __next__(self): #Codificação\n",
    "        linha = self.file.readline()\n",
    "        if not linha:\n",
    "            self.file.close()\n",
    "            raise StopIteration\n",
    "        categoria, valor = linha.strip().split(',')\n",
    "        return categoria, float(valor)"
   ]
  },
  {
   "cell_type": "code",
   "execution_count": 9,
   "metadata": {},
   "outputs": [],
   "source": [
    "def gerador_soma(arquivo):\n",
    "    total_vendas = 0\n",
    "    for categoria, valor in VendasInterator(arquivo):\n",
    "        total_vendas += valor\n",
    "        yield categoria, valor, total_vendas"
   ]
  },
  {
   "cell_type": "code",
   "execution_count": 13,
   "metadata": {},
   "outputs": [
    {
     "name": "stdout",
     "output_type": "stream",
     "text": [
      "Processando vendas...\n",
      "Categoria: eletronicos - Preço R$400.00 - Total R$400.00\n",
      "Categoria: roupas - Preço R$200.00 - Total R$600.00\n",
      "Categoria: alimentos - Preço R$150.00 - Total R$750.00\n",
      "Categoria: eletronicos - Preço R$170.00 - Total R$920.00\n",
      "Categoria: alimentos - Preço R$300.00 - Total R$1220.00\n",
      "Categoria: roupas - Preço R$100.00 - Total R$1320.00\n",
      "\n",
      "\n",
      "eletronicos : 2 vendas\n",
      "roupas : 2 vendas\n",
      "alimentos : 2 vendas\n"
     ]
    }
   ],
   "source": [
    "contagem_vendas = {}\n",
    "\n",
    "arquivo = 'vendas.txt'\n",
    "print(\"Processando vendas...\")\n",
    "\n",
    "for categoria, valor, total in gerador_soma(arquivo):\n",
    "    print(f\"Categoria: {categoria} - Preço R${valor:.2f} - Total R${total:.2f}\")\n",
    "\n",
    "    #Contagem de vendas por categoria\n",
    "    if categoria not in contagem_vendas:\n",
    "        contagem_vendas[categoria] = 0\n",
    "    contagem_vendas[categoria] += 1    \n",
    "\n",
    "print(\"\\n\")\n",
    "for categoria, contagem in contagem_vendas.items():\n",
    "    print(f\"{categoria} : {contagem} vendas\")\n",
    "\n"
   ]
  }
 ],
 "metadata": {
  "kernelspec": {
   "display_name": "Python 3",
   "language": "python",
   "name": "python3"
  },
  "language_info": {
   "codemirror_mode": {
    "name": "ipython",
    "version": 3
   },
   "file_extension": ".py",
   "mimetype": "text/x-python",
   "name": "python",
   "nbconvert_exporter": "python",
   "pygments_lexer": "ipython3",
   "version": "3.11.9"
  }
 },
 "nbformat": 4,
 "nbformat_minor": 2
}
